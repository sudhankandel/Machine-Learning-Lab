{
 "cells": [
  {
   "cell_type": "code",
   "execution_count": 1,
   "id": "841ea445",
   "metadata": {},
   "outputs": [],
   "source": [
    "from bs4 import BeautifulSoup\n",
    "import requests\n",
    "import urllib, json\n",
    "import pandas as pd\n",
    "from datetime import date, timedelta\n",
    "from urllib3.exceptions import InsecureRequestWarning\n",
    "from urllib3 import disable_warnings\n",
    "disable_warnings(InsecureRequestWarning)"
   ]
  },
  {
   "cell_type": "code",
   "execution_count": null,
   "id": "ff3aebf8",
   "metadata": {},
   "outputs": [],
   "source": [
    "sdate = date(2013,1,1)   # start date\n",
    "edate = date(2022,9,5)   # end date\n",
    "date=[]\n",
    "for i in pd.date_range(sdate,edate-timedelta(days=1),freq='d'):\n",
    "    date.append(i.date())\n",
    "script=['ADBL','NBL','NMB','NLIC','AHPC']\n",
    "a=[]\n",
    "for s in date:\n",
    "    for t in script:\n",
    "        payload = {'startDate': s,'_limit':20,'stock-symbol':t}\n",
    "        url=\"http://www.nepalstock.com/todaysprice\"\n",
    "        r=requests.get(url,params=payload,verify=False)\n",
    "        html_file=r.text\n",
    "        soup=BeautifulSoup(html_file)\n",
    "        table = soup.find('table')\n",
    "        th=[]\n",
    "        header=table.find('tr',class_='unique')\n",
    "        for i in header:\n",
    "            th.append(i.text.strip())\n",
    "        while(\"\" in th) :\n",
    "            th.remove(\"\")\n",
    "        std=table.find_all('tr')[2:-4]\n",
    "        for j in std:\n",
    "            b=j.text.strip().split('\\n')\n",
    "            b.insert(1,s)\n",
    "            b[2]=t\n",
    "            a.append(b)\n",
    "        th.insert(1,'Date')"
   ]
  },
  {
   "cell_type": "code",
   "execution_count": null,
   "id": "94211ed6",
   "metadata": {},
   "outputs": [],
   "source": [
    "df=pd.DataFrame(a,columns=th)"
   ]
  }
 ],
 "metadata": {
  "kernelspec": {
   "display_name": "Python 3 (ipykernel)",
   "language": "python",
   "name": "python3"
  },
  "language_info": {
   "codemirror_mode": {
    "name": "ipython",
    "version": 3
   },
   "file_extension": ".py",
   "mimetype": "text/x-python",
   "name": "python",
   "nbconvert_exporter": "python",
   "pygments_lexer": "ipython3",
   "version": "3.9.7"
  }
 },
 "nbformat": 4,
 "nbformat_minor": 5
}
